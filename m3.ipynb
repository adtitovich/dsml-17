{
  "nbformat": 4,
  "nbformat_minor": 0,
  "metadata": {
    "colab": {
      "provenance": [],
      "authorship_tag": "ABX9TyNNhlJDa6SUZQd8sZSwWruu",
      "include_colab_link": true
    },
    "kernelspec": {
      "name": "python3",
      "display_name": "Python 3"
    },
    "language_info": {
      "name": "python"
    }
  },
  "cells": [
    {
      "cell_type": "markdown",
      "metadata": {
        "id": "view-in-github",
        "colab_type": "text"
      },
      "source": [
        "<a href=\"https://colab.research.google.com/github/adtitovich/dsml-17/blob/main/m3.ipynb\" target=\"_parent\"><img src=\"https://colab.research.google.com/assets/colab-badge.svg\" alt=\"Open In Colab\"/></a>"
      ]
    },
    {
      "cell_type": "code",
      "execution_count": null,
      "metadata": {
        "id": "kizKJV02qAM8"
      },
      "outputs": [],
      "source": []
    },
    {
      "cell_type": "markdown",
      "source": [
        "# Описание задания:\n",
        "Решить задачу классификации при помощи обучения модели логистической регрессии. Качество модели оценивается путем подсчета метрик TPR, FPR и построения графиков ROC-кривой, Precision-Recall. Данные для обучения модели хранятся в файле athletes.csv, который можно найти в материалах к занятию."
      ],
      "metadata": {
        "id": "49LEah1jqF8w"
      }
    },
    {
      "cell_type": "markdown",
      "source": [
        "#Этапы работы:\n",
        "**1. Преобразуйте данные:    \n",
        "a. проверьте наличие пропущенных значений. Преобразуйте/удалите пропуски по необходимости;    \n",
        "b. закодируйте категориальные переменные числовыми значениями по необходимости.**"
      ],
      "metadata": {
        "id": "C33fKssXqObs"
      }
    },
    {
      "cell_type": "markdown",
      "source": [
        "**2. Разделите выборку на обучающее (80% данных) и тестовое (20% данных) подмножества.**"
      ],
      "metadata": {
        "id": "GZqXxj64ql6i"
      }
    },
    {
      "cell_type": "markdown",
      "source": [
        "**3. Постройте ROC-кривую с помощью функции sklearn.metrics. roc_curve.**"
      ],
      "metadata": {
        "id": "qqzf7Er5qq0S"
      }
    },
    {
      "cell_type": "markdown",
      "source": [
        "**4. Вычислите значение ROC-AUC метрики с помощью функции sklearn.metrics.roc_auc_score.**"
      ],
      "metadata": {
        "id": "sfUc6CaAqwcn"
      }
    },
    {
      "cell_type": "markdown",
      "source": [
        "**5. Реализуйте подсчет метрик TPR, FPR «вручную», без использования готовых функций из библиотеки sklearn.**"
      ],
      "metadata": {
        "id": "3IZ8hnjHqzct"
      }
    },
    {
      "cell_type": "markdown",
      "source": [
        "**6. Постройте ROC-кривую с помощью вычисленных в п. 5 метрик: объедините графики из п. 3 и п. 6 в один. Сравните, сделайте вывод.**"
      ],
      "metadata": {
        "id": "1lg0rfPZq4U9"
      }
    },
    {
      "cell_type": "markdown",
      "source": [
        "**7. Постройте график Precision-Recall, используя метрики, посчитанные в п. 5.**"
      ],
      "metadata": {
        "id": "ZKUQdxnsr_el"
      }
    },
    {
      "cell_type": "markdown",
      "source": [
        "**8. Вычислите значение ROC-AUC метрики, используя метрики, посчитанные в п. 5.**"
      ],
      "metadata": {
        "id": "ON01o-QnsEe3"
      }
    },
    {
      "cell_type": "markdown",
      "source": [
        "**9. Сформулируйте выводы по проделанной работе:\n",
        "a. как по полученным графикам сделать вывод о качестве модели? Как вы оцениваете обученную модель исходя из подсчитанных метрик?\n",
        "b. *может ли ROC-кривая проходить ниже диагонали?**"
      ],
      "metadata": {
        "id": "QR1limIrsIsw"
      }
    }
  ]
}