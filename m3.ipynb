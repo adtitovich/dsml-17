{
  "nbformat": 4,
  "nbformat_minor": 0,
  "metadata": {
    "colab": {
      "provenance": [],
      "authorship_tag": "ABX9TyOAp6kLyBiQEgMUsqWAUj7h",
      "include_colab_link": true
    },
    "kernelspec": {
      "name": "python3",
      "display_name": "Python 3"
    },
    "language_info": {
      "name": "python"
    }
  },
  "cells": [
    {
      "cell_type": "markdown",
      "metadata": {
        "id": "view-in-github",
        "colab_type": "text"
      },
      "source": [
        "<a href=\"https://colab.research.google.com/github/adtitovich/dsml-17/blob/main/m3.ipynb\" target=\"_parent\"><img src=\"https://colab.research.google.com/assets/colab-badge.svg\" alt=\"Open In Colab\"/></a>"
      ]
    },
    {
      "cell_type": "markdown",
      "source": [
        "# Описание задания:\n",
        "Решить задачу классификации при помощи обучения модели логистической регрессии. Качество модели оценивается путем подсчета метрик TPR, FPR и построения графиков ROC-кривой, Precision-Recall. Данные для обучения модели хранятся в файле athletes.csv, который можно найти в материалах к занятию."
      ],
      "metadata": {
        "id": "49LEah1jqF8w"
      }
    },
    {
      "cell_type": "markdown",
      "source": [
        "#Этапы работы:\n",
        "**1. Преобразуйте данные:    \n",
        "a. проверьте наличие пропущенных значений. Преобразуйте/удалите пропуски по необходимости;    \n",
        "b. закодируйте категориальные переменные числовыми значениями по необходимости.**"
      ],
      "metadata": {
        "id": "C33fKssXqObs"
      }
    },
    {
      "cell_type": "code",
      "source": [
        "import pandas as pd\n",
        "import numpy as np\n",
        "import datetime as dt\n",
        "from matplotlib import pyplot as plt\n",
        "from sklearn.pipeline import make_pipeline\n",
        "from sklearn.preprocessing import LabelEncoder, StandardScaler\n",
        "from sklearn.model_selection import train_test_split\n",
        "from sklearn.linear_model import LogisticRegression\n",
        "from sklearn import metrics"
      ],
      "metadata": {
        "id": "cFZ_cu0i70pR"
      },
      "execution_count": 77,
      "outputs": []
    },
    {
      "cell_type": "code",
      "source": [
        "data = pd.read_csv('https://raw.githubusercontent.com/adtitovich/dsml-17/main/datasets/athletes.csv')\n",
        "data.head(20)\n",
        "     "
      ],
      "metadata": {
        "id": "lVm8GfDc71Uu",
        "outputId": "b1609da3-9e4b-4f6c-d641-0e9687107a9f",
        "colab": {
          "base_uri": "https://localhost:8080/",
          "height": 676
        }
      },
      "execution_count": 52,
      "outputs": [
        {
          "output_type": "execute_result",
          "data": {
            "text/plain": [
              "           id                      name nationality     sex       dob  height  \\\n",
              "0   736041664            A Jesus Garcia         ESP    male  10/17/69    1.72   \n",
              "1   532037425                A Lam Shin         KOR  female   9/23/86    1.68   \n",
              "2   435962603               Aaron Brown         CAN    male   5/27/92    1.98   \n",
              "3   521041435                Aaron Cook         MDA    male    1/2/91    1.83   \n",
              "4    33922579                Aaron Gate         NZL    male  11/26/90    1.81   \n",
              "5   173071782               Aaron Royle         AUS    male   1/26/90    1.80   \n",
              "6   266237702             Aaron Russell         USA    male    6/4/93    2.05   \n",
              "7   382571888             Aaron Younger         AUS    male   9/25/91    1.93   \n",
              "8    87689776       Aauri Lorena Bokesa         ESP  female  12/14/88    1.80   \n",
              "9   997877719           Ababel Yeshaneh         ETH  female   7/22/91    1.65   \n",
              "10  343694681               Abadi Hadis         ETH    male   11/6/97    1.70   \n",
              "11  591319906      Abbas Abubakar Abbas         BRN    male   5/17/96    1.75   \n",
              "12  258556239                Abbas Qali         IOA    male  10/11/92     NaN   \n",
              "13  376068084          Abbey D'Agostino         USA  female   5/25/92    1.61   \n",
              "14  162792594            Abbey Weitzeil         USA  female   12/3/96    1.78   \n",
              "15  521036704               Abbie Brown         GBR  female   4/10/96    1.76   \n",
              "16  149397772           Abbos Rakhmonov         UZB    male    7/7/98    1.61   \n",
              "17  256673338          Abbubaker Mobara         RSA    male   2/18/94    1.75   \n",
              "18  337369662                Abby Erceg         NZL  female  11/20/89    1.75   \n",
              "19  334169879  Abd Elhalim Mohamed Abou         EGY    male    6/3/89    2.10   \n",
              "\n",
              "    weight         sport  gold  silver  bronze  \n",
              "0     64.0     athletics     0       0       0  \n",
              "1     56.0       fencing     0       0       0  \n",
              "2     79.0     athletics     0       0       1  \n",
              "3     80.0     taekwondo     0       0       0  \n",
              "4     71.0       cycling     0       0       0  \n",
              "5     67.0     triathlon     0       0       0  \n",
              "6     98.0    volleyball     0       0       1  \n",
              "7    100.0      aquatics     0       0       0  \n",
              "8     62.0     athletics     0       0       0  \n",
              "9     54.0     athletics     0       0       0  \n",
              "10    63.0     athletics     0       0       0  \n",
              "11    66.0     athletics     0       0       0  \n",
              "12     NaN      aquatics     0       0       0  \n",
              "13    49.0     athletics     0       0       0  \n",
              "14    68.0      aquatics     1       1       0  \n",
              "15    71.0  rugby sevens     0       0       0  \n",
              "16    57.0     wrestling     0       0       0  \n",
              "17    64.0      football     0       0       0  \n",
              "18    68.0      football     0       0       0  \n",
              "19    88.0    volleyball     0       0       0  "
            ],
            "text/html": [
              "\n",
              "  <div id=\"df-457b3ebe-d4f4-48b6-a141-c1726974093d\">\n",
              "    <div class=\"colab-df-container\">\n",
              "      <div>\n",
              "<style scoped>\n",
              "    .dataframe tbody tr th:only-of-type {\n",
              "        vertical-align: middle;\n",
              "    }\n",
              "\n",
              "    .dataframe tbody tr th {\n",
              "        vertical-align: top;\n",
              "    }\n",
              "\n",
              "    .dataframe thead th {\n",
              "        text-align: right;\n",
              "    }\n",
              "</style>\n",
              "<table border=\"1\" class=\"dataframe\">\n",
              "  <thead>\n",
              "    <tr style=\"text-align: right;\">\n",
              "      <th></th>\n",
              "      <th>id</th>\n",
              "      <th>name</th>\n",
              "      <th>nationality</th>\n",
              "      <th>sex</th>\n",
              "      <th>dob</th>\n",
              "      <th>height</th>\n",
              "      <th>weight</th>\n",
              "      <th>sport</th>\n",
              "      <th>gold</th>\n",
              "      <th>silver</th>\n",
              "      <th>bronze</th>\n",
              "    </tr>\n",
              "  </thead>\n",
              "  <tbody>\n",
              "    <tr>\n",
              "      <th>0</th>\n",
              "      <td>736041664</td>\n",
              "      <td>A Jesus Garcia</td>\n",
              "      <td>ESP</td>\n",
              "      <td>male</td>\n",
              "      <td>10/17/69</td>\n",
              "      <td>1.72</td>\n",
              "      <td>64.0</td>\n",
              "      <td>athletics</td>\n",
              "      <td>0</td>\n",
              "      <td>0</td>\n",
              "      <td>0</td>\n",
              "    </tr>\n",
              "    <tr>\n",
              "      <th>1</th>\n",
              "      <td>532037425</td>\n",
              "      <td>A Lam Shin</td>\n",
              "      <td>KOR</td>\n",
              "      <td>female</td>\n",
              "      <td>9/23/86</td>\n",
              "      <td>1.68</td>\n",
              "      <td>56.0</td>\n",
              "      <td>fencing</td>\n",
              "      <td>0</td>\n",
              "      <td>0</td>\n",
              "      <td>0</td>\n",
              "    </tr>\n",
              "    <tr>\n",
              "      <th>2</th>\n",
              "      <td>435962603</td>\n",
              "      <td>Aaron Brown</td>\n",
              "      <td>CAN</td>\n",
              "      <td>male</td>\n",
              "      <td>5/27/92</td>\n",
              "      <td>1.98</td>\n",
              "      <td>79.0</td>\n",
              "      <td>athletics</td>\n",
              "      <td>0</td>\n",
              "      <td>0</td>\n",
              "      <td>1</td>\n",
              "    </tr>\n",
              "    <tr>\n",
              "      <th>3</th>\n",
              "      <td>521041435</td>\n",
              "      <td>Aaron Cook</td>\n",
              "      <td>MDA</td>\n",
              "      <td>male</td>\n",
              "      <td>1/2/91</td>\n",
              "      <td>1.83</td>\n",
              "      <td>80.0</td>\n",
              "      <td>taekwondo</td>\n",
              "      <td>0</td>\n",
              "      <td>0</td>\n",
              "      <td>0</td>\n",
              "    </tr>\n",
              "    <tr>\n",
              "      <th>4</th>\n",
              "      <td>33922579</td>\n",
              "      <td>Aaron Gate</td>\n",
              "      <td>NZL</td>\n",
              "      <td>male</td>\n",
              "      <td>11/26/90</td>\n",
              "      <td>1.81</td>\n",
              "      <td>71.0</td>\n",
              "      <td>cycling</td>\n",
              "      <td>0</td>\n",
              "      <td>0</td>\n",
              "      <td>0</td>\n",
              "    </tr>\n",
              "    <tr>\n",
              "      <th>5</th>\n",
              "      <td>173071782</td>\n",
              "      <td>Aaron Royle</td>\n",
              "      <td>AUS</td>\n",
              "      <td>male</td>\n",
              "      <td>1/26/90</td>\n",
              "      <td>1.80</td>\n",
              "      <td>67.0</td>\n",
              "      <td>triathlon</td>\n",
              "      <td>0</td>\n",
              "      <td>0</td>\n",
              "      <td>0</td>\n",
              "    </tr>\n",
              "    <tr>\n",
              "      <th>6</th>\n",
              "      <td>266237702</td>\n",
              "      <td>Aaron Russell</td>\n",
              "      <td>USA</td>\n",
              "      <td>male</td>\n",
              "      <td>6/4/93</td>\n",
              "      <td>2.05</td>\n",
              "      <td>98.0</td>\n",
              "      <td>volleyball</td>\n",
              "      <td>0</td>\n",
              "      <td>0</td>\n",
              "      <td>1</td>\n",
              "    </tr>\n",
              "    <tr>\n",
              "      <th>7</th>\n",
              "      <td>382571888</td>\n",
              "      <td>Aaron Younger</td>\n",
              "      <td>AUS</td>\n",
              "      <td>male</td>\n",
              "      <td>9/25/91</td>\n",
              "      <td>1.93</td>\n",
              "      <td>100.0</td>\n",
              "      <td>aquatics</td>\n",
              "      <td>0</td>\n",
              "      <td>0</td>\n",
              "      <td>0</td>\n",
              "    </tr>\n",
              "    <tr>\n",
              "      <th>8</th>\n",
              "      <td>87689776</td>\n",
              "      <td>Aauri Lorena Bokesa</td>\n",
              "      <td>ESP</td>\n",
              "      <td>female</td>\n",
              "      <td>12/14/88</td>\n",
              "      <td>1.80</td>\n",
              "      <td>62.0</td>\n",
              "      <td>athletics</td>\n",
              "      <td>0</td>\n",
              "      <td>0</td>\n",
              "      <td>0</td>\n",
              "    </tr>\n",
              "    <tr>\n",
              "      <th>9</th>\n",
              "      <td>997877719</td>\n",
              "      <td>Ababel Yeshaneh</td>\n",
              "      <td>ETH</td>\n",
              "      <td>female</td>\n",
              "      <td>7/22/91</td>\n",
              "      <td>1.65</td>\n",
              "      <td>54.0</td>\n",
              "      <td>athletics</td>\n",
              "      <td>0</td>\n",
              "      <td>0</td>\n",
              "      <td>0</td>\n",
              "    </tr>\n",
              "    <tr>\n",
              "      <th>10</th>\n",
              "      <td>343694681</td>\n",
              "      <td>Abadi Hadis</td>\n",
              "      <td>ETH</td>\n",
              "      <td>male</td>\n",
              "      <td>11/6/97</td>\n",
              "      <td>1.70</td>\n",
              "      <td>63.0</td>\n",
              "      <td>athletics</td>\n",
              "      <td>0</td>\n",
              "      <td>0</td>\n",
              "      <td>0</td>\n",
              "    </tr>\n",
              "    <tr>\n",
              "      <th>11</th>\n",
              "      <td>591319906</td>\n",
              "      <td>Abbas Abubakar Abbas</td>\n",
              "      <td>BRN</td>\n",
              "      <td>male</td>\n",
              "      <td>5/17/96</td>\n",
              "      <td>1.75</td>\n",
              "      <td>66.0</td>\n",
              "      <td>athletics</td>\n",
              "      <td>0</td>\n",
              "      <td>0</td>\n",
              "      <td>0</td>\n",
              "    </tr>\n",
              "    <tr>\n",
              "      <th>12</th>\n",
              "      <td>258556239</td>\n",
              "      <td>Abbas Qali</td>\n",
              "      <td>IOA</td>\n",
              "      <td>male</td>\n",
              "      <td>10/11/92</td>\n",
              "      <td>NaN</td>\n",
              "      <td>NaN</td>\n",
              "      <td>aquatics</td>\n",
              "      <td>0</td>\n",
              "      <td>0</td>\n",
              "      <td>0</td>\n",
              "    </tr>\n",
              "    <tr>\n",
              "      <th>13</th>\n",
              "      <td>376068084</td>\n",
              "      <td>Abbey D'Agostino</td>\n",
              "      <td>USA</td>\n",
              "      <td>female</td>\n",
              "      <td>5/25/92</td>\n",
              "      <td>1.61</td>\n",
              "      <td>49.0</td>\n",
              "      <td>athletics</td>\n",
              "      <td>0</td>\n",
              "      <td>0</td>\n",
              "      <td>0</td>\n",
              "    </tr>\n",
              "    <tr>\n",
              "      <th>14</th>\n",
              "      <td>162792594</td>\n",
              "      <td>Abbey Weitzeil</td>\n",
              "      <td>USA</td>\n",
              "      <td>female</td>\n",
              "      <td>12/3/96</td>\n",
              "      <td>1.78</td>\n",
              "      <td>68.0</td>\n",
              "      <td>aquatics</td>\n",
              "      <td>1</td>\n",
              "      <td>1</td>\n",
              "      <td>0</td>\n",
              "    </tr>\n",
              "    <tr>\n",
              "      <th>15</th>\n",
              "      <td>521036704</td>\n",
              "      <td>Abbie Brown</td>\n",
              "      <td>GBR</td>\n",
              "      <td>female</td>\n",
              "      <td>4/10/96</td>\n",
              "      <td>1.76</td>\n",
              "      <td>71.0</td>\n",
              "      <td>rugby sevens</td>\n",
              "      <td>0</td>\n",
              "      <td>0</td>\n",
              "      <td>0</td>\n",
              "    </tr>\n",
              "    <tr>\n",
              "      <th>16</th>\n",
              "      <td>149397772</td>\n",
              "      <td>Abbos Rakhmonov</td>\n",
              "      <td>UZB</td>\n",
              "      <td>male</td>\n",
              "      <td>7/7/98</td>\n",
              "      <td>1.61</td>\n",
              "      <td>57.0</td>\n",
              "      <td>wrestling</td>\n",
              "      <td>0</td>\n",
              "      <td>0</td>\n",
              "      <td>0</td>\n",
              "    </tr>\n",
              "    <tr>\n",
              "      <th>17</th>\n",
              "      <td>256673338</td>\n",
              "      <td>Abbubaker Mobara</td>\n",
              "      <td>RSA</td>\n",
              "      <td>male</td>\n",
              "      <td>2/18/94</td>\n",
              "      <td>1.75</td>\n",
              "      <td>64.0</td>\n",
              "      <td>football</td>\n",
              "      <td>0</td>\n",
              "      <td>0</td>\n",
              "      <td>0</td>\n",
              "    </tr>\n",
              "    <tr>\n",
              "      <th>18</th>\n",
              "      <td>337369662</td>\n",
              "      <td>Abby Erceg</td>\n",
              "      <td>NZL</td>\n",
              "      <td>female</td>\n",
              "      <td>11/20/89</td>\n",
              "      <td>1.75</td>\n",
              "      <td>68.0</td>\n",
              "      <td>football</td>\n",
              "      <td>0</td>\n",
              "      <td>0</td>\n",
              "      <td>0</td>\n",
              "    </tr>\n",
              "    <tr>\n",
              "      <th>19</th>\n",
              "      <td>334169879</td>\n",
              "      <td>Abd Elhalim Mohamed Abou</td>\n",
              "      <td>EGY</td>\n",
              "      <td>male</td>\n",
              "      <td>6/3/89</td>\n",
              "      <td>2.10</td>\n",
              "      <td>88.0</td>\n",
              "      <td>volleyball</td>\n",
              "      <td>0</td>\n",
              "      <td>0</td>\n",
              "      <td>0</td>\n",
              "    </tr>\n",
              "  </tbody>\n",
              "</table>\n",
              "</div>\n",
              "      <button class=\"colab-df-convert\" onclick=\"convertToInteractive('df-457b3ebe-d4f4-48b6-a141-c1726974093d')\"\n",
              "              title=\"Convert this dataframe to an interactive table.\"\n",
              "              style=\"display:none;\">\n",
              "        \n",
              "  <svg xmlns=\"http://www.w3.org/2000/svg\" height=\"24px\"viewBox=\"0 0 24 24\"\n",
              "       width=\"24px\">\n",
              "    <path d=\"M0 0h24v24H0V0z\" fill=\"none\"/>\n",
              "    <path d=\"M18.56 5.44l.94 2.06.94-2.06 2.06-.94-2.06-.94-.94-2.06-.94 2.06-2.06.94zm-11 1L8.5 8.5l.94-2.06 2.06-.94-2.06-.94L8.5 2.5l-.94 2.06-2.06.94zm10 10l.94 2.06.94-2.06 2.06-.94-2.06-.94-.94-2.06-.94 2.06-2.06.94z\"/><path d=\"M17.41 7.96l-1.37-1.37c-.4-.4-.92-.59-1.43-.59-.52 0-1.04.2-1.43.59L10.3 9.45l-7.72 7.72c-.78.78-.78 2.05 0 2.83L4 21.41c.39.39.9.59 1.41.59.51 0 1.02-.2 1.41-.59l7.78-7.78 2.81-2.81c.8-.78.8-2.07 0-2.86zM5.41 20L4 18.59l7.72-7.72 1.47 1.35L5.41 20z\"/>\n",
              "  </svg>\n",
              "      </button>\n",
              "      \n",
              "  <style>\n",
              "    .colab-df-container {\n",
              "      display:flex;\n",
              "      flex-wrap:wrap;\n",
              "      gap: 12px;\n",
              "    }\n",
              "\n",
              "    .colab-df-convert {\n",
              "      background-color: #E8F0FE;\n",
              "      border: none;\n",
              "      border-radius: 50%;\n",
              "      cursor: pointer;\n",
              "      display: none;\n",
              "      fill: #1967D2;\n",
              "      height: 32px;\n",
              "      padding: 0 0 0 0;\n",
              "      width: 32px;\n",
              "    }\n",
              "\n",
              "    .colab-df-convert:hover {\n",
              "      background-color: #E2EBFA;\n",
              "      box-shadow: 0px 1px 2px rgba(60, 64, 67, 0.3), 0px 1px 3px 1px rgba(60, 64, 67, 0.15);\n",
              "      fill: #174EA6;\n",
              "    }\n",
              "\n",
              "    [theme=dark] .colab-df-convert {\n",
              "      background-color: #3B4455;\n",
              "      fill: #D2E3FC;\n",
              "    }\n",
              "\n",
              "    [theme=dark] .colab-df-convert:hover {\n",
              "      background-color: #434B5C;\n",
              "      box-shadow: 0px 1px 3px 1px rgba(0, 0, 0, 0.15);\n",
              "      filter: drop-shadow(0px 1px 2px rgba(0, 0, 0, 0.3));\n",
              "      fill: #FFFFFF;\n",
              "    }\n",
              "  </style>\n",
              "\n",
              "      <script>\n",
              "        const buttonEl =\n",
              "          document.querySelector('#df-457b3ebe-d4f4-48b6-a141-c1726974093d button.colab-df-convert');\n",
              "        buttonEl.style.display =\n",
              "          google.colab.kernel.accessAllowed ? 'block' : 'none';\n",
              "\n",
              "        async function convertToInteractive(key) {\n",
              "          const element = document.querySelector('#df-457b3ebe-d4f4-48b6-a141-c1726974093d');\n",
              "          const dataTable =\n",
              "            await google.colab.kernel.invokeFunction('convertToInteractive',\n",
              "                                                     [key], {});\n",
              "          if (!dataTable) return;\n",
              "\n",
              "          const docLinkHtml = 'Like what you see? Visit the ' +\n",
              "            '<a target=\"_blank\" href=https://colab.research.google.com/notebooks/data_table.ipynb>data table notebook</a>'\n",
              "            + ' to learn more about interactive tables.';\n",
              "          element.innerHTML = '';\n",
              "          dataTable['output_type'] = 'display_data';\n",
              "          await google.colab.output.renderOutput(dataTable, element);\n",
              "          const docLink = document.createElement('div');\n",
              "          docLink.innerHTML = docLinkHtml;\n",
              "          element.appendChild(docLink);\n",
              "        }\n",
              "      </script>\n",
              "    </div>\n",
              "  </div>\n",
              "  "
            ]
          },
          "metadata": {},
          "execution_count": 52
        }
      ]
    },
    {
      "cell_type": "code",
      "source": [
        "data.info()"
      ],
      "metadata": {
        "id": "QfPvGvfo9eM1",
        "outputId": "af5328a5-8d46-4654-88d1-4f27642d57e6",
        "colab": {
          "base_uri": "https://localhost:8080/"
        }
      },
      "execution_count": 45,
      "outputs": [
        {
          "output_type": "stream",
          "name": "stdout",
          "text": [
            "<class 'pandas.core.frame.DataFrame'>\n",
            "RangeIndex: 11538 entries, 0 to 11537\n",
            "Data columns (total 11 columns):\n",
            " #   Column       Non-Null Count  Dtype  \n",
            "---  ------       --------------  -----  \n",
            " 0   id           11538 non-null  int64  \n",
            " 1   name         11538 non-null  object \n",
            " 2   nationality  11538 non-null  object \n",
            " 3   sex          11538 non-null  object \n",
            " 4   dob          11537 non-null  object \n",
            " 5   height       11208 non-null  float64\n",
            " 6   weight       10879 non-null  float64\n",
            " 7   sport        11538 non-null  object \n",
            " 8   gold         11538 non-null  int64  \n",
            " 9   silver       11538 non-null  int64  \n",
            " 10  bronze       11538 non-null  int64  \n",
            "dtypes: float64(2), int64(4), object(5)\n",
            "memory usage: 991.7+ KB\n"
          ]
        }
      ]
    },
    {
      "cell_type": "code",
      "source": [
        "# удалим признаки, которые не будем использовать\n",
        "data = data.drop(columns=['id', 'name'])"
      ],
      "metadata": {
        "id": "rNFUQrYvJiAT"
      },
      "execution_count": 53,
      "outputs": []
    },
    {
      "cell_type": "code",
      "source": [
        "# Обработаем пропущенные значения\n",
        "\n",
        "# удалим пропущенное значение в dob\n",
        "data = data.drop(data[data['dob'].isnull()].index)"
      ],
      "metadata": {
        "id": "nl68c8M-HaIO"
      },
      "execution_count": 54,
      "outputs": []
    },
    {
      "cell_type": "code",
      "source": [
        "# заполним пропущенные значения height и weight средними значениями для каждого пола\n",
        "\n",
        "male = data['sex'] == 'male'\n",
        "female = data['sex'] == 'female'\n",
        "\n",
        "data.loc[male, 'height'] = data.loc[male, 'height'].fillna(data.loc[male, 'height'].mean())\n",
        "data.loc[female, 'height'] = data.loc[female, 'height'].fillna(data.loc[female, 'height'].mean())\n",
        "data.loc[male, 'weight'] = data.loc[male, 'weight'].fillna(data.loc[male, 'weight'].mean())\n",
        "data.loc[female, 'weight'] = data.loc[female, 'weight'].fillna(data.loc[female, 'weight'].mean())"
      ],
      "metadata": {
        "id": "nJ01-Y5FIqAL"
      },
      "execution_count": 55,
      "outputs": []
    },
    {
      "cell_type": "code",
      "source": [
        "data.info()"
      ],
      "metadata": {
        "colab": {
          "base_uri": "https://localhost:8080/"
        },
        "id": "CHcE4A68G9T8",
        "outputId": "d9020665-a622-4b3a-8943-9d6d955acef8"
      },
      "execution_count": 56,
      "outputs": [
        {
          "output_type": "stream",
          "name": "stdout",
          "text": [
            "<class 'pandas.core.frame.DataFrame'>\n",
            "Int64Index: 11537 entries, 0 to 11537\n",
            "Data columns (total 9 columns):\n",
            " #   Column       Non-Null Count  Dtype  \n",
            "---  ------       --------------  -----  \n",
            " 0   nationality  11537 non-null  object \n",
            " 1   sex          11537 non-null  object \n",
            " 2   dob          11537 non-null  object \n",
            " 3   height       11537 non-null  float64\n",
            " 4   weight       11537 non-null  float64\n",
            " 5   sport        11537 non-null  object \n",
            " 6   gold         11537 non-null  int64  \n",
            " 7   silver       11537 non-null  int64  \n",
            " 8   bronze       11537 non-null  int64  \n",
            "dtypes: float64(2), int64(3), object(4)\n",
            "memory usage: 901.3+ KB\n"
          ]
        }
      ]
    },
    {
      "cell_type": "code",
      "source": [
        "# Закодируем категориальные переменные\n",
        "\n",
        "#sex\n",
        "le = LabelEncoder()\n",
        "data.isetitem(1, le.fit_transform(data['sex']))\n",
        "\n",
        "\n",
        "# dob\n",
        "data['dob'] = pd.to_datetime(data['dob'], format = '%m/%d/%y')\n",
        "data[\"dob\"] = data['dob'].apply(lambda x: x - dt.timedelta(days=365*100) if x > dt.datetime.now() else x)\n",
        "data['dob']= data['dob'].map(dt.datetime.toordinal)\n",
        "\n",
        "\n",
        "# nationality, sport\n",
        "data = pd.get_dummies(data, columns = ['nationality', 'sport'])"
      ],
      "metadata": {
        "id": "etF3-758AY-I"
      },
      "execution_count": 57,
      "outputs": []
    },
    {
      "cell_type": "markdown",
      "source": [
        "**2. Разделите выборку на обучающее (80% данных) и тестовое (20% данных) подмножества.**"
      ],
      "metadata": {
        "id": "GZqXxj64ql6i"
      }
    },
    {
      "cell_type": "code",
      "source": [
        "X = data.drop(columns=['sex'])\n",
        "y = data['sex']"
      ],
      "metadata": {
        "id": "lmPGRoa-Mw7i"
      },
      "execution_count": 60,
      "outputs": []
    },
    {
      "cell_type": "code",
      "source": [
        "# делим выборку\n",
        "X_train, X_test, y_train, y_test = train_test_split(X, y, test_size=0.2, random_state=32)"
      ],
      "metadata": {
        "id": "onx5exYrM8I8"
      },
      "execution_count": 69,
      "outputs": []
    },
    {
      "cell_type": "code",
      "source": [
        "# обучаем модель\n",
        "model = make_pipeline(StandardScaler(), LogisticRegression(max_iter=2000))\n",
        "model.fit(X_train, y_train)"
      ],
      "metadata": {
        "colab": {
          "base_uri": "https://localhost:8080/",
          "height": 126
        },
        "id": "JkZg3wr0OBOa",
        "outputId": "a7372248-2507-47c3-ab45-87752d390152"
      },
      "execution_count": 70,
      "outputs": [
        {
          "output_type": "execute_result",
          "data": {
            "text/plain": [
              "Pipeline(steps=[('standardscaler', StandardScaler()),\n",
              "                ('logisticregression', LogisticRegression(max_iter=2000))])"
            ],
            "text/html": [
              "<style>#sk-container-id-1 {color: black;background-color: white;}#sk-container-id-1 pre{padding: 0;}#sk-container-id-1 div.sk-toggleable {background-color: white;}#sk-container-id-1 label.sk-toggleable__label {cursor: pointer;display: block;width: 100%;margin-bottom: 0;padding: 0.3em;box-sizing: border-box;text-align: center;}#sk-container-id-1 label.sk-toggleable__label-arrow:before {content: \"▸\";float: left;margin-right: 0.25em;color: #696969;}#sk-container-id-1 label.sk-toggleable__label-arrow:hover:before {color: black;}#sk-container-id-1 div.sk-estimator:hover label.sk-toggleable__label-arrow:before {color: black;}#sk-container-id-1 div.sk-toggleable__content {max-height: 0;max-width: 0;overflow: hidden;text-align: left;background-color: #f0f8ff;}#sk-container-id-1 div.sk-toggleable__content pre {margin: 0.2em;color: black;border-radius: 0.25em;background-color: #f0f8ff;}#sk-container-id-1 input.sk-toggleable__control:checked~div.sk-toggleable__content {max-height: 200px;max-width: 100%;overflow: auto;}#sk-container-id-1 input.sk-toggleable__control:checked~label.sk-toggleable__label-arrow:before {content: \"▾\";}#sk-container-id-1 div.sk-estimator input.sk-toggleable__control:checked~label.sk-toggleable__label {background-color: #d4ebff;}#sk-container-id-1 div.sk-label input.sk-toggleable__control:checked~label.sk-toggleable__label {background-color: #d4ebff;}#sk-container-id-1 input.sk-hidden--visually {border: 0;clip: rect(1px 1px 1px 1px);clip: rect(1px, 1px, 1px, 1px);height: 1px;margin: -1px;overflow: hidden;padding: 0;position: absolute;width: 1px;}#sk-container-id-1 div.sk-estimator {font-family: monospace;background-color: #f0f8ff;border: 1px dotted black;border-radius: 0.25em;box-sizing: border-box;margin-bottom: 0.5em;}#sk-container-id-1 div.sk-estimator:hover {background-color: #d4ebff;}#sk-container-id-1 div.sk-parallel-item::after {content: \"\";width: 100%;border-bottom: 1px solid gray;flex-grow: 1;}#sk-container-id-1 div.sk-label:hover label.sk-toggleable__label {background-color: #d4ebff;}#sk-container-id-1 div.sk-serial::before {content: \"\";position: absolute;border-left: 1px solid gray;box-sizing: border-box;top: 0;bottom: 0;left: 50%;z-index: 0;}#sk-container-id-1 div.sk-serial {display: flex;flex-direction: column;align-items: center;background-color: white;padding-right: 0.2em;padding-left: 0.2em;position: relative;}#sk-container-id-1 div.sk-item {position: relative;z-index: 1;}#sk-container-id-1 div.sk-parallel {display: flex;align-items: stretch;justify-content: center;background-color: white;position: relative;}#sk-container-id-1 div.sk-item::before, #sk-container-id-1 div.sk-parallel-item::before {content: \"\";position: absolute;border-left: 1px solid gray;box-sizing: border-box;top: 0;bottom: 0;left: 50%;z-index: -1;}#sk-container-id-1 div.sk-parallel-item {display: flex;flex-direction: column;z-index: 1;position: relative;background-color: white;}#sk-container-id-1 div.sk-parallel-item:first-child::after {align-self: flex-end;width: 50%;}#sk-container-id-1 div.sk-parallel-item:last-child::after {align-self: flex-start;width: 50%;}#sk-container-id-1 div.sk-parallel-item:only-child::after {width: 0;}#sk-container-id-1 div.sk-dashed-wrapped {border: 1px dashed gray;margin: 0 0.4em 0.5em 0.4em;box-sizing: border-box;padding-bottom: 0.4em;background-color: white;}#sk-container-id-1 div.sk-label label {font-family: monospace;font-weight: bold;display: inline-block;line-height: 1.2em;}#sk-container-id-1 div.sk-label-container {text-align: center;}#sk-container-id-1 div.sk-container {/* jupyter's `normalize.less` sets `[hidden] { display: none; }` but bootstrap.min.css set `[hidden] { display: none !important; }` so we also need the `!important` here to be able to override the default hidden behavior on the sphinx rendered scikit-learn.org. See: https://github.com/scikit-learn/scikit-learn/issues/21755 */display: inline-block !important;position: relative;}#sk-container-id-1 div.sk-text-repr-fallback {display: none;}</style><div id=\"sk-container-id-1\" class=\"sk-top-container\"><div class=\"sk-text-repr-fallback\"><pre>Pipeline(steps=[(&#x27;standardscaler&#x27;, StandardScaler()),\n",
              "                (&#x27;logisticregression&#x27;, LogisticRegression(max_iter=2000))])</pre><b>In a Jupyter environment, please rerun this cell to show the HTML representation or trust the notebook. <br />On GitHub, the HTML representation is unable to render, please try loading this page with nbviewer.org.</b></div><div class=\"sk-container\" hidden><div class=\"sk-item sk-dashed-wrapped\"><div class=\"sk-label-container\"><div class=\"sk-label sk-toggleable\"><input class=\"sk-toggleable__control sk-hidden--visually\" id=\"sk-estimator-id-1\" type=\"checkbox\" ><label for=\"sk-estimator-id-1\" class=\"sk-toggleable__label sk-toggleable__label-arrow\">Pipeline</label><div class=\"sk-toggleable__content\"><pre>Pipeline(steps=[(&#x27;standardscaler&#x27;, StandardScaler()),\n",
              "                (&#x27;logisticregression&#x27;, LogisticRegression(max_iter=2000))])</pre></div></div></div><div class=\"sk-serial\"><div class=\"sk-item\"><div class=\"sk-estimator sk-toggleable\"><input class=\"sk-toggleable__control sk-hidden--visually\" id=\"sk-estimator-id-2\" type=\"checkbox\" ><label for=\"sk-estimator-id-2\" class=\"sk-toggleable__label sk-toggleable__label-arrow\">StandardScaler</label><div class=\"sk-toggleable__content\"><pre>StandardScaler()</pre></div></div></div><div class=\"sk-item\"><div class=\"sk-estimator sk-toggleable\"><input class=\"sk-toggleable__control sk-hidden--visually\" id=\"sk-estimator-id-3\" type=\"checkbox\" ><label for=\"sk-estimator-id-3\" class=\"sk-toggleable__label sk-toggleable__label-arrow\">LogisticRegression</label><div class=\"sk-toggleable__content\"><pre>LogisticRegression(max_iter=2000)</pre></div></div></div></div></div></div></div>"
            ]
          },
          "metadata": {},
          "execution_count": 70
        }
      ]
    },
    {
      "cell_type": "markdown",
      "source": [
        "**3. Постройте ROC-кривую с помощью функции sklearn.metrics. roc_curve.**"
      ],
      "metadata": {
        "id": "qqzf7Er5qq0S"
      }
    },
    {
      "cell_type": "code",
      "source": [
        "# предсказания\n",
        "predictions = model.predict_proba(X_test)\n",
        "\n",
        "# # рассчитываем roc-кривую\n",
        "fpr, tpr, threshold = metrics.roc_curve(y_test, predictions[:, 1])\n",
        "roc_auc = metrics.auc(fpr, tpr)\n",
        "\n",
        "\n",
        "plt.plot(fpr, tpr, color='darkorange',\n",
        "         label='ROC кривая (area = %0.2f)' % roc_auc)\n",
        "plt.plot([0, 1], [0, 1], color='navy', linestyle='--')\n",
        "plt.grid()\n",
        "plt.xlim([0.0, 1.0])\n",
        "plt.ylim([0.0, 1.05])\n",
        "plt.xlabel('False Positive Rate')\n",
        "plt.ylabel('True Positive Rate')\n",
        "plt.title('ROC-кривая')\n",
        "plt.legend(loc=\"lower right\")\n",
        "plt.show()\n",
        "\n",
        "\n",
        "\n"
      ],
      "metadata": {
        "colab": {
          "base_uri": "https://localhost:8080/",
          "height": 472
        },
        "id": "fMLUlsHNOcsd",
        "outputId": "dbd34c7b-04dc-4bcb-d360-db4201e05579"
      },
      "execution_count": 172,
      "outputs": [
        {
          "output_type": "display_data",
          "data": {
            "text/plain": [
              "<Figure size 640x480 with 1 Axes>"
            ],
            "image/png": "[encoded data removed]"
          },
          "metadata": {}
        }
      ]
    },
    {
      "cell_type": "markdown",
      "source": [
        "**4. Вычислите значение ROC-AUC метрики с помощью функции sklearn.metrics.roc_auc_score.**"
      ],
      "metadata": {
        "id": "sfUc6CaAqwcn"
      }
    },
    {
      "cell_type": "code",
      "source": [
        "# рассчитываем ROC AUC\n",
        "lr_auc = metrics.roc_auc_score(y_test, predictions[:, 1])\n",
        "\n",
        "print(lr_auc)"
      ],
      "metadata": {
        "colab": {
          "base_uri": "https://localhost:8080/"
        },
        "id": "zytQ_yCfQzdK",
        "outputId": "351475df-51d1-451c-a0a5-08adcd4ea86c"
      },
      "execution_count": 74,
      "outputs": [
        {
          "output_type": "stream",
          "name": "stdout",
          "text": [
            "0.8966518745334036\n"
          ]
        }
      ]
    },
    {
      "cell_type": "markdown",
      "source": [
        "**5. Реализуйте подсчет метрик TPR, FPR «вручную», без использования готовых функций из библиотеки sklearn.**"
      ],
      "metadata": {
        "id": "3IZ8hnjHqzct"
      }
    },
    {
      "cell_type": "code",
      "source": [
        "def get_metrics(y, proba, threshold):\n",
        "  tp = 0\n",
        "  fp = 0\n",
        "  fn = 0\n",
        "  tn = 0\n",
        "  for predicted_prob, actual in zip(proba, y):    \n",
        "    if predicted_prob >= threshold:\n",
        "      predicted = 1\n",
        "    else:\n",
        "      predicted = 0\n",
        "    if predicted == 1:\n",
        "      if actual == 1:\n",
        "        tp += 1\n",
        "      else:\n",
        "        fp += 1\n",
        "    else:\n",
        "      if actual == 1:\n",
        "        fn += 1\n",
        "      else:\n",
        "        tn += 1\n",
        "  return fp, tp, fn, tn "
      ],
      "metadata": {
        "id": "u6_OFsWynfVv"
      },
      "execution_count": 82,
      "outputs": []
    },
    {
      "cell_type": "code",
      "source": [
        "# пороговые значения  \n",
        "thresholds = np.linspace(0,1,101)\n",
        "\n",
        "# массивы метрик\n",
        "tpr_m = []\n",
        "fpr_m = []\n",
        "pr_m = []\n",
        "\n"
      ],
      "metadata": {
        "id": "go0sCX61_DBs"
      },
      "execution_count": 168,
      "outputs": []
    },
    {
      "cell_type": "code",
      "source": [
        "# перебираем пороговые значения и получаем количество ложно и истинно положительных результатов \n",
        "for th in thresholds:\n",
        "  fp, tp, fn, tn = get_metrics(y_test, predictions[:, 1], th)\t\n",
        "  fpr_m.append(fp/(fp + tn))\n",
        "  tpr_m.append(tp/(tp + fn))\n",
        "  if(tp + fp) == tp:\n",
        "    pr_m.append(1.0)\n",
        "  else:\n",
        "    pr_m.append(tp/(tp +fp + 1e-10))\n"
      ],
      "metadata": {
        "id": "I8cWCC49_LJ3"
      },
      "execution_count": 169,
      "outputs": []
    },
    {
      "cell_type": "markdown",
      "source": [
        "**6. Постройте ROC-кривую с помощью вычисленных в п. 5 метрик: объедините графики из п. 3 и п. 6 в один. Сравните, сделайте вывод.**"
      ],
      "metadata": {
        "id": "1lg0rfPZq4U9"
      }
    },
    {
      "cell_type": "code",
      "source": [
        "plt.plot(fpr, tpr, color='darkorange', label='ROC кривая (sklearn)')\n",
        "plt.plot(fpr_m, tpr_m, color='green', label='ROC кривая (вручную)')\n",
        "plt.plot([0, 1], [0, 1], color='navy', linestyle='--')\n",
        "plt.grid()\n",
        "plt.xlim([0.0, 1.0])\n",
        "plt.ylim([0.0, 1.05])\n",
        "plt.xlabel('False Positive Rate')\n",
        "plt.ylabel('True Positive Rate')\n",
        "plt.title('ROC-кривая')\n",
        "plt.legend(loc=\"lower right\")\n",
        "plt.rcParams[\"figure.figsize\"] = (10,10)\n",
        "plt.show()"
      ],
      "metadata": {
        "colab": {
          "base_uri": "https://localhost:8080/",
          "height": 872
        },
        "id": "uFzc-Y3WBWR0",
        "outputId": "a5ace30b-c08e-48a5-a6d2-e3650acb1454"
      },
      "execution_count": 185,
      "outputs": [
        {
          "output_type": "display_data",
          "data": {
            "text/plain": [
              "<Figure size 1000x1000 with 1 Axes>"
            ],
            "image/png": "[encoded data removed]"
          },
          "metadata": {}
        }
      ]
    },
    {
      "cell_type": "markdown",
      "source": [
        "**7. Постройте график Precision-Recall, используя метрики, посчитанные в п. 5.**"
      ],
      "metadata": {
        "id": "ZKUQdxnsr_el"
      }
    },
    {
      "cell_type": "code",
      "source": [
        "plt.plot(tpr_m, pr_m, color='darkorange', label='Precision-Recall')\n",
        "plt.grid()\n",
        "plt.xlim([0.0, 1.0])\n",
        "plt.ylim([0.0, 1.05])\n",
        "plt.xlabel('Recall')\n",
        "plt.ylabel('Precision')\n",
        "plt.title('Precision-Recall')\n",
        "plt.legend(loc=\"lower right\")\n",
        "plt.show()"
      ],
      "metadata": {
        "colab": {
          "base_uri": "https://localhost:8080/",
          "height": 472
        },
        "id": "ihaVUFfBCNhU",
        "outputId": "2193ff7d-1492-431e-bf00-b97cb89a57ef"
      },
      "execution_count": 175,
      "outputs": [
        {
          "output_type": "display_data",
          "data": {
            "text/plain": [
              "<Figure size 640x480 with 1 Axes>"
            ],
            "image/png": "[encoded data removed]"
          },
          "metadata": {}
        }
      ]
    },
    {
      "cell_type": "markdown",
      "source": [
        "**8. Вычислите значение ROC-AUC метрики, используя метрики, посчитанные в п. 5.**"
      ],
      "metadata": {
        "id": "ON01o-QnsEe3"
      }
    },
    {
      "cell_type": "code",
      "source": [
        "\n",
        "roc_auc = abs(np.trapz(tpr_m, x = fpr_m))\n",
        "\n",
        "print(roc_auc)\n"
      ],
      "metadata": {
        "id": "gj7cLHQIbRIR",
        "outputId": "9c7471eb-a923-405c-a184-d3d4e55512e6",
        "colab": {
          "base_uri": "https://localhost:8080/"
        }
      },
      "execution_count": 192,
      "outputs": [
        {
          "output_type": "stream",
          "name": "stdout",
          "text": [
            "0.8964540565941209\n"
          ]
        }
      ]
    }
  ]
}