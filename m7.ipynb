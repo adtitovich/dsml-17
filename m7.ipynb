{
  "nbformat": 4,
  "nbformat_minor": 0,
  "metadata": {
    "colab": {
      "provenance": [],
      "authorship_tag": "ABX9TyMhME9UNAEYBCEMevGdnepU",
      "include_colab_link": true
    },
    "kernelspec": {
      "name": "python3",
      "display_name": "Python 3"
    },
    "language_info": {
      "name": "python"
    }
  },
  "cells": [
    {
      "cell_type": "markdown",
      "metadata": {
        "id": "view-in-github",
        "colab_type": "text"
      },
      "source": [
        "<a href=\"https://colab.research.google.com/github/adtitovich/dsml-17/blob/main/m7.ipynb\" target=\"_parent\"><img src=\"https://colab.research.google.com/assets/colab-badge.svg\" alt=\"Open In Colab\"/></a>"
      ]
    },
    {
      "cell_type": "markdown",
      "source": [
        "# Описание задания:\n",
        "В домашнем задании нужно решить задачу классификации наличия болезни сердца у пациентов. Данные для обучения моделей необходимо загрузить самостоятельно с [сайта](https://www.kaggle.com/fedesoriano/heart-failure-prediction). Целевая переменная – наличие болезни сердца (HeartDisease), принимает значения 0 или 1 в зависимости от отсутствия или наличия болезни соответственно. (Подробнее о признаках можно прочесть в описании датасета на сайте. Для выполнения работы не обязательно вникать в медицинские показатели.)"
      ],
      "metadata": {
        "id": "nESmv3E_90V0"
      }
    },
    {
      "cell_type": "markdown",
      "source": [
        "#Этапы работы:\n",
        "**1. Получите данные и загрузите их в рабочую среду.**"
      ],
      "metadata": {
        "id": "hMgdG9fN-Dtm"
      }
    },
    {
      "cell_type": "code",
      "source": [
        "import numpy as np\n",
        "import pandas as pd "
      ],
      "metadata": {
        "id": "SjY9ik3uTYz9"
      },
      "execution_count": null,
      "outputs": []
    },
    {
      "cell_type": "code",
      "source": [
        "data = pd.read_csv('https://raw.githubusercontent.com/adtitovich/dsml-17/main/datasets/adult.csv') # датасет - https://www.cs.toronto.edu/~delve/data/adult/desc.html\n",
        "data.head()"
      ],
      "metadata": {
        "id": "TR6dvSWYUno9"
      },
      "execution_count": null,
      "outputs": []
    },
    {
      "cell_type": "markdown",
      "source": [
        "**2. Подготовьте датасет к обучению моделей.   \n",
        "a) Категориальные переменные переведите в цифровые значения. Можно использовать pd.get_dummies, preprocessing.LabelEncoder. Старайтесь не использовать для этой задачи циклы.   \n",
        "b) *Постройте 1-2 графика на выбор. Визуализация должна быть основана на исследуемых данных и быть полезной (из графика можно сделать вывод об особенностях датасета/класса/признака).**"
      ],
      "metadata": {
        "id": "nFEec2IL-JL-"
      }
    },
    {
      "cell_type": "markdown",
      "source": [
        "**3. Разделите выборку на обучающее и тестовое подмножество. 80% данных оставить на обучающее множество, 20% на тестовое.**"
      ],
      "metadata": {
        "id": "y93PGRCr-Txa"
      }
    },
    {
      "cell_type": "markdown",
      "source": [
        "**4. Обучите дерево решений на обучающем множестве. Используйте следующие модели:   \n",
        "a) tree.DecisionTreeClassifier   \n",
        "b) ensemble.RandomForestClassifier**"
      ],
      "metadata": {
        "id": "SMQY8h13-aP6"
      }
    },
    {
      "cell_type": "markdown",
      "source": [
        "**5. Для тестового множества сделайте предсказание целевой переменной. Выведите метрики для каждой построенной модели с помощью metrics.classification_report.**"
      ],
      "metadata": {
        "id": "WQFSuDLv-fhY"
      }
    },
    {
      "cell_type": "markdown",
      "source": [
        "**6. Выведите важность признаков, полученную после обучения модели из п. 4b в виде столбчатой диаграммы. Отсортируйте важность по убыванию.**"
      ],
      "metadata": {
        "id": "aVm1XkqF-jYu"
      }
    },
    {
      "cell_type": "markdown",
      "source": [
        "**7. Обучите бэггинг над моделью из п. 4a. Используйте ensemble.BaggingClassifier.   \n",
        "Повторите п. 5**"
      ],
      "metadata": {
        "id": "Ggf0yarR-uFN"
      }
    },
    {
      "cell_type": "markdown",
      "source": [
        "**8. Обучите стекинг трех моделей: из п. 4a, п. 4b и svm.LinearSVC. Используйте ensemble.StackingClassifier.   \n",
        "Повторите п. 5**"
      ],
      "metadata": {
        "id": "4nLxIOo7-z0w"
      }
    },
    {
      "cell_type": "markdown",
      "source": [
        "**9. Сформулируйте выводы по проделанной работе.\n",
        "a) Сравните метрики построенных моделей.\n",
        "b) Напишите свое мнение, какая модель наилучшая и почему.\n",
        "Для получения зачета по этому домашнему заданию, минимально, должны быть обучены следующие модели: дерево решений, стекинг трех моделей. В данных должны быть обработаны категориальные значения.**"
      ],
      "metadata": {
        "id": "ePIMsfDf-6Eg"
      }
    }
  ]
}