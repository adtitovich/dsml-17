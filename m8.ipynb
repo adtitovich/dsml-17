{
  "nbformat": 4,
  "nbformat_minor": 0,
  "metadata": {
    "colab": {
      "provenance": [],
      "authorship_tag": "ABX9TyN7xWAEUEh9b/nyggZU2rqS",
      "include_colab_link": true
    },
    "kernelspec": {
      "name": "python3",
      "display_name": "Python 3"
    },
    "language_info": {
      "name": "python"
    }
  },
  "cells": [
    {
      "cell_type": "markdown",
      "metadata": {
        "id": "view-in-github",
        "colab_type": "text"
      },
      "source": [
        "<a href=\"https://colab.research.google.com/github/adtitovich/dsml-17/blob/main/m8.ipynb\" target=\"_parent\"><img src=\"https://colab.research.google.com/assets/colab-badge.svg\" alt=\"Open In Colab\"/></a>"
      ]
    },
    {
      "cell_type": "markdown",
      "source": [
        "# Описание задания:\n",
        "В домашнем задании нужно решить задачу классификации типа стекол. Данные для обучения моделей можно скачать с [сайта](https://www.kaggle.com/uciml/glass). Целевая переменная – тип стекла «Type». Остальные признаки описывают химические элементы в составе материала. Датасет нужно исследовать на наличие выбросов, провести EDA."
      ],
      "metadata": {
        "id": "-eAQZcl2Maio"
      }
    },
    {
      "cell_type": "markdown",
      "source": [
        "#Этапы работы:\n",
        "**1. Получите данные и загрузите их в рабочую среду.**"
      ],
      "metadata": {
        "id": "2ZiVyfU6MoKD"
      }
    },
    {
      "cell_type": "markdown",
      "source": [
        "**2. Проведите первичный анализ.   \n",
        "а) Проверьте количество записей для каждого класса. Сделайте вывод.**"
      ],
      "metadata": {
        "id": "0-6c82zDMssX"
      }
    },
    {
      "cell_type": "markdown",
      "source": [
        "**3. Разделите выборку на обучающее и тестовое подмножество. 80% данных оставить на обучающее множество, 20% на тестовое.**\n"
      ],
      "metadata": {
        "id": "BO63UCljMznX"
      }
    },
    {
      "cell_type": "markdown",
      "source": [
        "**4. Обучите модель дерева решений RandomForestClassifier на обучающем множестве.**"
      ],
      "metadata": {
        "id": "o8-GXnDUM4Mj"
      }
    },
    {
      "cell_type": "markdown",
      "source": [
        "**5. Для тестового множества предскажите тип стекла и сравните с истинным значением, посчитав точность предсказания модели (accuracy).**"
      ],
      "metadata": {
        "id": "nV9_op4uM-DL"
      }
    },
    {
      "cell_type": "markdown",
      "source": [
        "**6. Обработайте выбросы в данных.   \n",
        "а) Визуализируйте распределение значений для каждой переменной. Можно использовать функции sns.boxplot, sns.distplot. Есть ли признаки с нормальным распределением?   \n",
        "b) Исследуйте признаки на выбросы несколькими способами.   \n",
        "c) Удалите выбросы. *Посчитайте процент удаленных записей от общего числа записей для каждого класса.**"
      ],
      "metadata": {
        "id": "kN-8Q2NrNcKJ"
      }
    },
    {
      "cell_type": "markdown",
      "source": [
        "**7. Повторите п. 4, п. 5.**"
      ],
      "metadata": {
        "id": "dSVbPiPFNnbj"
      }
    },
    {
      "cell_type": "markdown",
      "source": [
        "**8. Сформулируйте выводы по проделанной работе.   \n",
        "а) Кратко опишите, какие преобразования были сделаны с данными.   \n",
        "b) Сравните точность двух моделей.   \n",
        "c) Напишите свое мнение, нужно ли исследовать данные на выбросы, для чего это делается, плюсы и минусы подхода.**"
      ],
      "metadata": {
        "id": "NTXD0HdYNpGg"
      }
    }
  ]
}