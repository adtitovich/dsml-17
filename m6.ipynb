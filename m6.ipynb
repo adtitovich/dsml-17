{
  "nbformat": 4,
  "nbformat_minor": 0,
  "metadata": {
    "colab": {
      "provenance": [],
      "authorship_tag": "ABX9TyO3N9pEEdwRGNz5tcP00KaA",
      "include_colab_link": true
    },
    "kernelspec": {
      "name": "python3",
      "display_name": "Python 3"
    },
    "language_info": {
      "name": "python"
    }
  },
  "cells": [
    {
      "cell_type": "markdown",
      "metadata": {
        "id": "view-in-github",
        "colab_type": "text"
      },
      "source": [
        "<a href=\"https://colab.research.google.com/github/adtitovich/dsml-17/blob/main/m6.ipynb\" target=\"_parent\"><img src=\"https://colab.research.google.com/assets/colab-badge.svg\" alt=\"Open In Colab\"/></a>"
      ]
    },
    {
      "cell_type": "markdown",
      "source": [
        "# Описание задания:\n",
        "В домашнем задании нужно решить задачу регрессии. В качестве датасета необходимо взять данные о недвижимости Калифорнии из библиотеки [sklearn.datasets](https://scikit-learn.org/stable/modules/generated/sklearn.datasets.fetch_california_housing.html). \n",
        "Целевая переменная – MedHouseVal. Прочитать информацию о признаках датасета можно, выполнив следующий код – print(fetch_california_housing().DESCR). \n",
        "На полученных данных построить модель регрессии и дерево решений."
      ],
      "metadata": {
        "id": "Ng-UI6eHKAhP"
      }
    },
    {
      "cell_type": "markdown",
      "source": [
        "#Этапы работы:\n",
        "**1. Получите и загрузите данные.**"
      ],
      "metadata": {
        "id": "GaMgM-bLKQcx"
      }
    },
    {
      "cell_type": "code",
      "source": [],
      "metadata": {
        "id": "EmD5GhZbLkxm"
      },
      "execution_count": null,
      "outputs": []
    },
    {
      "cell_type": "markdown",
      "source": [
        "**2. Проведите первичный анализ.  \n",
        "a.Проверьте данные на пропуски. Удалите в случае обнаружения.  \n",
        "b.*Нормализуйте один из признаков**"
      ],
      "metadata": {
        "id": "OZspQTZvLlOF"
      }
    },
    {
      "cell_type": "code",
      "source": [],
      "metadata": {
        "id": "w1snGPWGLudn"
      },
      "execution_count": null,
      "outputs": []
    },
    {
      "cell_type": "markdown",
      "source": [
        "**3. Разделите выборку на обучающее и тестовое подмножества. 80% данных оставить на обучающее множество, 20% - на тестовое.**"
      ],
      "metadata": {
        "id": "XFw-dMkOLoP5"
      }
    },
    {
      "cell_type": "code",
      "source": [],
      "metadata": {
        "id": "CSAQQAmRMREx"
      },
      "execution_count": null,
      "outputs": []
    },
    {
      "cell_type": "markdown",
      "source": [
        "**4. Обучите [модель регрессии](https://scikit-learn.org/stable/modules/generated/sklearn.linear_model.LinearRegression.html) на обучающем множестве.**"
      ],
      "metadata": {
        "id": "_vd_Q0uzMRf2"
      }
    },
    {
      "cell_type": "code",
      "source": [],
      "metadata": {
        "id": "JutbmDtwONzR"
      },
      "execution_count": null,
      "outputs": []
    },
    {
      "cell_type": "markdown",
      "source": [
        "**5. Для тестового множества предскажите целевую переменную и сравните с истинным значением, посчитав точность предсказания модели. Для этого используйте встроенную функцию score.**"
      ],
      "metadata": {
        "id": "TeSwQ_FxOUkB"
      }
    },
    {
      "cell_type": "code",
      "source": [],
      "metadata": {
        "id": "184VwNzyOV4h"
      },
      "execution_count": null,
      "outputs": []
    },
    {
      "cell_type": "markdown",
      "source": [
        "**6. Обучите [дерево решений](https://scikit-learn.org/stable/modules/generated/sklearn.tree.DecisionTreeRegressor.html) на обучающем множестве.  \n",
        "a. Повторите п. 5 для полученной модели.  \n",
        "b. Визуализируйте часть дерева решений. Убедитесь, что график получился читабельным. Посмотрите примеры визуализации по [ссылке](https://mljar.com/blog/visualize-decision-tree/)."
      ],
      "metadata": {
        "id": "8sh5ag9SPTrJ"
      }
    },
    {
      "cell_type": "code",
      "source": [],
      "metadata": {
        "id": "mFun4OtnPiRE"
      },
      "execution_count": null,
      "outputs": []
    },
    {
      "cell_type": "markdown",
      "source": [
        "**7. Оптимизируйте глубину дерева (max_depth). *Оптимизируйте ещё один параметр модели на выбор.   \n",
        "a. Повторите п. 5 для полученной модели.**"
      ],
      "metadata": {
        "id": "eCUNxlHzPix5"
      }
    },
    {
      "cell_type": "code",
      "source": [],
      "metadata": {
        "id": "yCLhqZfbP1lR"
      },
      "execution_count": null,
      "outputs": []
    },
    {
      "cell_type": "markdown",
      "source": [
        "**8. Сформулируйте выводы по проделанной работе.   \n",
        "a. Сравните точность двух моделей.   \n",
        "b. Напишите свое мнение, для каких задач предпочтительнее использовать обученные в работе модели? Какие у них есть плюсы и минусы?**"
      ],
      "metadata": {
        "id": "Sp_6QTaIP1vJ"
      }
    }
  ]
}